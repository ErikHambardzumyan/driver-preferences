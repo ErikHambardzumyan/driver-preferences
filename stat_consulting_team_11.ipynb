{
 "cells": [
  {
   "cell_type": "code",
   "execution_count": 4,
   "id": "f28201a6",
   "metadata": {},
   "outputs": [],
   "source": [
    "from pyspark.sql import Window, SparkSession\n",
    "import pyspark.sql.functions as F\n",
    "\n",
    "import os\n",
    "import json\n",
    "import random\n",
    "import sklearn\n",
    "import numpy as np\n",
    "import pandas as pd\n",
    "\n",
    "from os import listdir\n",
    "import statsmodels.api as sm\n",
    "import matplotlib.pyplot as plt\n",
    "from os.path import isfile, join\n",
    "\n",
    "from sklearn.cluster import KMeans\n",
    "from sklearn.metrics import accuracy_score\n",
    "from sklearn.preprocessing import LabelEncoder\n",
    "from sklearn.model_selection import train_test_split\n",
    "from sklearn.ensemble import RandomForestClassifier\n",
    "from sklearn.linear_model import LogisticRegression\n",
    "\n",
    "def read_json(path):\n",
    "    with open(path) as f:\n",
    "        d = json.load(f)\n",
    "        return d\n",
    "\n",
    "def read_txt(path):\n",
    "    with open(path) as f:\n",
    "        return f.read()\n",
    "\n",
    "\n",
    "def get_files(path):\n",
    "    return [f for f in listdir(path) if isfile(join(path, f))]\n",
    "\n",
    "\n",
    "def get_directories(path):\n",
    "    return [name for name in os.listdir(path) if name != \".DS_Store\" and name != \"README.txt\"]"
   ]
  },
  {
   "cell_type": "markdown",
   "id": "a97de2f4",
   "metadata": {},
   "source": [
    "# Part 1: get the data"
   ]
  },
  {
   "cell_type": "markdown",
   "id": "c9a68b8b",
   "metadata": {},
   "source": [
    "### Request data"
   ]
  },
  {
   "cell_type": "code",
   "execution_count": 14,
   "id": "73a15646",
   "metadata": {},
   "outputs": [],
   "source": [
    "data_route_day = []\n",
    "requests_folders = \"./data/requests/\"\n",
    "directories = get_directories(requests_folders)\n",
    "\n",
    "# Iterate over all directories\n",
    "for directory in directories:\n",
    "    route_day_directory = requests_folders+directory\n",
    "    files_route_day = get_files(route_day_directory)\n",
    "    # Iterate over each request file in the directory\n",
    "    for request_json in files_route_day:\n",
    "        \n",
    "        request_path = route_day_directory + \"/\" + request_json\n",
    "        request_dict = read_json(request_path)\n",
    "        for indx, route_point in enumerate(request_dict['tasks']):\n",
    "            \n",
    "            timeWindow = route_point['timeWindow']\n",
    "            address = route_point['address']\n",
    "            \n",
    "            # Create row for each location \n",
    "            data_point = {\n",
    "                          **timeWindow, \n",
    "                          **address, \n",
    "                          'id': route_point['id'], \n",
    "                          'request_id': request_dict['id'],\n",
    "                          'configurationName': request_dict['configurationName'],\n",
    "                          'request_file_name': request_json.split(\".\")[0]\n",
    "                         }\n",
    "            \n",
    "            data_route_day.append(data_point)\n",
    "            \n",
    "request_full_df = pd.DataFrame(data_route_day)"
   ]
  },
  {
   "cell_type": "markdown",
   "id": "ed21036a",
   "metadata": {},
   "source": [
    "### Response data"
   ]
  },
  {
   "cell_type": "code",
   "execution_count": null,
   "id": "5f5c894c",
   "metadata": {},
   "outputs": [],
   "source": [
    "data_route_day = []\n",
    "responses_folders = \"./data/responses/\"\n",
    "directories = get_directories(responses_folders)\n",
    "\n",
    "response_dfs = []\n",
    "# Iterate over all directories\n",
    "for directory in directories:\n",
    "    route_day_directory = responses_folders+directory\n",
    "    files_route_day = get_files(route_day_directory)\n",
    "    # Iterate over each response file in the directory\n",
    "    for response in files_route_day:\n",
    "        response_path = route_day_directory + \"/\" + response\n",
    "        response_txt = read_txt(response_path)\n",
    "        \n",
    "        order_ids = response_txt.split(\"\\n\")\n",
    "        length = len(order_ids)\n",
    "        response_file_name = [response.split(\".\")[0]]*length\n",
    "        \n",
    "        response_df = pd.DataFrame({\"id\":order_ids, \n",
    "                                    \"request_file_name\":response_file_name\n",
    "                                   })\n",
    "        response_dfs.append(response_df)\n",
    "        \n",
    "response_full_df = pd.concat(response_dfs)"
   ]
  },
  {
   "cell_type": "markdown",
   "id": "8c993e3b",
   "metadata": {},
   "source": [
    "---"
   ]
  },
  {
   "cell_type": "markdown",
   "id": "1686f666",
   "metadata": {},
   "source": [
    "### Join responses with requests\n",
    "to order the points in accord with responses"
   ]
  },
  {
   "cell_type": "code",
   "execution_count": null,
   "id": "33ced13f",
   "metadata": {},
   "outputs": [],
   "source": [
    "merged = pd.merge(response_full_df, \n",
    "                  request_full_df, \n",
    "                  on = [\"request_file_name\", \"id\"])"
   ]
  },
  {
   "cell_type": "markdown",
   "id": "e14e8da6",
   "metadata": {},
   "source": [
    "### Add next latitude  & longitude"
   ]
  },
  {
   "cell_type": "code",
   "execution_count": null,
   "id": "5c011b18",
   "metadata": {},
   "outputs": [],
   "source": [
    "merged['latitude_next'] = (merged.groupby(['request_file_name'])['latitude'].shift(-1))\n",
    "merged['longitude_next'] = (merged.groupby(['request_file_name'])['longitude'].shift(-1))"
   ]
  },
  {
   "cell_type": "markdown",
   "id": "0a0c3a3c",
   "metadata": {},
   "source": [
    "### Compute euclidean distance between given location & the one coming after it"
   ]
  },
  {
   "cell_type": "code",
   "execution_count": null,
   "id": "48e6351d",
   "metadata": {},
   "outputs": [],
   "source": [
    "merged['distance'] = merged.apply(lambda x: np.linalg.norm(np.array([x.latitude, x.longitude])\n",
    "                                                           -\n",
    "                                                           np.array([x.latitude_next, x.longitude_next]), \n",
    "                                                           ), axis=1)"
   ]
  },
  {
   "cell_type": "markdown",
   "id": "20d79a56",
   "metadata": {},
   "source": [
    "---"
   ]
  },
  {
   "cell_type": "markdown",
   "id": "a7c9d194",
   "metadata": {},
   "source": [
    "### Add extra columns"
   ]
  },
  {
   "cell_type": "code",
   "execution_count": 5,
   "id": "c4ff4c91",
   "metadata": {},
   "outputs": [],
   "source": [
    "merged[\"code\"] = merged[\"request_file_name\"].apply(lambda x: x.split(\"-\")[2])\n",
    "merged[\"number_of_input_taks\"] = merged[\"request_file_name\"].apply(lambda x: x.split(\"-\")[3])\n",
    "merged[\"number_of_fixed_taks\"] = merged[\"request_file_name\"].apply(lambda x: x.split(\"-\")[4])\n",
    "merged['folder_name'] = merged['request_file_name'].str[:17]\n",
    "merged['code_digit'] = merged['code'].str[:1]"
   ]
  },
  {
   "cell_type": "markdown",
   "id": "702c6860",
   "metadata": {},
   "source": [
    "- code is the 5 digit code coming folder name\n",
    "- the pattern is that ones with 0 refer to the same route \n",
    "- while ones with digit 1 refer to another route\n"
   ]
  },
  {
   "cell_type": "code",
   "execution_count": 6,
   "id": "b1182e32",
   "metadata": {},
   "outputs": [],
   "source": [
    "merged_subset = (merged[['folder_name', 'code', 'code_digit']]\n",
    "                      .drop_duplicates().sort_values(by=['folder_name', 'code']))"
   ]
  },
  {
   "cell_type": "markdown",
   "id": "1ea6f87e",
   "metadata": {},
   "source": [
    "### Take last and first codes starting with 1 or 0 in each folder"
   ]
  },
  {
   "cell_type": "code",
   "execution_count": 7,
   "id": "a5666ff2",
   "metadata": {},
   "outputs": [],
   "source": [
    "merged1 = merged_subset.drop_duplicates(subset=['folder_name', 'code_digit'], keep='first')\n",
    "merged2 = merged_subset.drop_duplicates(subset=['folder_name', 'code_digit'], keep='last')"
   ]
  },
  {
   "cell_type": "code",
   "execution_count": 8,
   "id": "14996843",
   "metadata": {},
   "outputs": [
    {
     "data": {
      "text/html": [
       "<div>\n",
       "<style scoped>\n",
       "    .dataframe tbody tr th:only-of-type {\n",
       "        vertical-align: middle;\n",
       "    }\n",
       "\n",
       "    .dataframe tbody tr th {\n",
       "        vertical-align: top;\n",
       "    }\n",
       "\n",
       "    .dataframe thead th {\n",
       "        text-align: right;\n",
       "    }\n",
       "</style>\n",
       "<table border=\"1\" class=\"dataframe\">\n",
       "  <thead>\n",
       "    <tr style=\"text-align: right;\">\n",
       "      <th></th>\n",
       "      <th>folder_name</th>\n",
       "      <th>code</th>\n",
       "      <th>code_digit</th>\n",
       "    </tr>\n",
       "  </thead>\n",
       "  <tbody>\n",
       "    <tr>\n",
       "      <th>1284415</th>\n",
       "      <td>0521_300-20220617</td>\n",
       "      <td>055733</td>\n",
       "      <td>0</td>\n",
       "    </tr>\n",
       "    <tr>\n",
       "      <th>1284410</th>\n",
       "      <td>0521_300-20220617</td>\n",
       "      <td>124013</td>\n",
       "      <td>1</td>\n",
       "    </tr>\n",
       "    <tr>\n",
       "      <th>393846</th>\n",
       "      <td>0521_301-20220530</td>\n",
       "      <td>064538</td>\n",
       "      <td>0</td>\n",
       "    </tr>\n",
       "    <tr>\n",
       "      <th>393692</th>\n",
       "      <td>0521_301-20220530</td>\n",
       "      <td>191138</td>\n",
       "      <td>1</td>\n",
       "    </tr>\n",
       "    <tr>\n",
       "      <th>621403</th>\n",
       "      <td>0521_301-20220531</td>\n",
       "      <td>054500</td>\n",
       "      <td>0</td>\n",
       "    </tr>\n",
       "  </tbody>\n",
       "</table>\n",
       "</div>"
      ],
      "text/plain": [
       "               folder_name    code code_digit\n",
       "1284415  0521_300-20220617  055733          0\n",
       "1284410  0521_300-20220617  124013          1\n",
       "393846   0521_301-20220530  064538          0\n",
       "393692   0521_301-20220530  191138          1\n",
       "621403   0521_301-20220531  054500          0"
      ]
     },
     "execution_count": 8,
     "metadata": {},
     "output_type": "execute_result"
    }
   ],
   "source": [
    "merged1.head(5)"
   ]
  },
  {
   "cell_type": "code",
   "execution_count": 9,
   "id": "88f002a6",
   "metadata": {},
   "outputs": [
    {
     "data": {
      "text/plain": [
       "(6302, 6302)"
      ]
     },
     "execution_count": 9,
     "metadata": {},
     "output_type": "execute_result"
    }
   ],
   "source": [
    "merged1.shape[0], merged1.drop_duplicates().shape[0]"
   ]
  },
  {
   "cell_type": "markdown",
   "id": "53c927f8",
   "metadata": {},
   "source": [
    "## Join to get routes of first and last files respectively "
   ]
  },
  {
   "cell_type": "code",
   "execution_count": 10,
   "id": "73222bb5",
   "metadata": {},
   "outputs": [],
   "source": [
    "first_points = pd.merge(merged, merged1, on=['code', 'code_digit', 'folder_name'])\n",
    "last_points = pd.merge(merged, merged2, on=['code', 'code_digit', 'folder_name'])"
   ]
  },
  {
   "cell_type": "code",
   "execution_count": 14,
   "id": "01377bc4",
   "metadata": {},
   "outputs": [],
   "source": [
    "last_points = last_points[['id', 'code_digit', 'folder_name']]"
   ]
  },
  {
   "cell_type": "code",
   "execution_count": 15,
   "id": "2330cbf1",
   "metadata": {},
   "outputs": [],
   "source": [
    "last_points['is_not_removed'] = 1"
   ]
  },
  {
   "cell_type": "markdown",
   "id": "fc246038",
   "metadata": {},
   "source": [
    "### Keep first route as is, if the point does not apear in the last file then `is_not_removed` becomes null"
   ]
  },
  {
   "cell_type": "code",
   "execution_count": 16,
   "id": "ab10dc66",
   "metadata": {},
   "outputs": [],
   "source": [
    "final_df = pd.merge(first_points, last_points, how='left', on=['id', 'code_digit', 'folder_name'])"
   ]
  },
  {
   "cell_type": "code",
   "execution_count": 17,
   "id": "6612378a",
   "metadata": {},
   "outputs": [
    {
     "data": {
      "text/plain": [
       "(764115, 764115)"
      ]
     },
     "execution_count": 17,
     "metadata": {},
     "output_type": "execute_result"
    }
   ],
   "source": [
    "final_df.shape[0], first_points.shape[0]"
   ]
  },
  {
   "cell_type": "code",
   "execution_count": 18,
   "id": "5ad117f1",
   "metadata": {},
   "outputs": [],
   "source": [
    "final_df['is_not_removed'] = final_df['is_not_removed'].fillna(0)  \n",
    "final_df['is_removed'] = 1 - final_df['is_not_removed']\n",
    "final_df.drop(columns=['is_not_removed'], inplace=True)"
   ]
  },
  {
   "cell_type": "code",
   "execution_count": 22,
   "id": "412308b0",
   "metadata": {},
   "outputs": [],
   "source": [
    "final_df['is_removed'] = final_df['is_removed'].astype(int)"
   ]
  },
  {
   "cell_type": "markdown",
   "id": "5913faa0",
   "metadata": {},
   "source": [
    "---"
   ]
  },
  {
   "cell_type": "markdown",
   "id": "d0e0a3f7",
   "metadata": {},
   "source": [
    "# Part 2: clustering"
   ]
  },
  {
   "cell_type": "markdown",
   "id": "ed58ba23",
   "metadata": {},
   "source": [
    "### Take 5% of sample to perform clustering on latitude & longitude"
   ]
  },
  {
   "cell_type": "code",
   "execution_count": 88,
   "id": "3fcc5516",
   "metadata": {},
   "outputs": [],
   "source": [
    "sample_size = int(final_df[['request_file_name']].drop_duplicates().shape[0]*0.05)\n",
    "sample_files = (final_df[['request_file_name']]\n",
    "                .drop_duplicates()\n",
    "                .sample(sample_size, \n",
    "                        random_state=1)['request_file_name'].values)"
   ]
  },
  {
   "cell_type": "code",
   "execution_count": 83,
   "id": "598d7c27",
   "metadata": {},
   "outputs": [],
   "source": [
    "X = final_df.query(\"request_file_name in @sample_files\")[['latitude', 'longitude']]"
   ]
  },
  {
   "cell_type": "markdown",
   "id": "f801baa3",
   "metadata": {},
   "source": [
    "### Take the number of clusters with highest silhouette score which is at $13$"
   ]
  },
  {
   "cell_type": "code",
   "execution_count": 87,
   "id": "a4acf76c",
   "metadata": {},
   "outputs": [
    {
     "name": "stdout",
     "output_type": "stream",
     "text": [
      "For n_clusters = 2, silhouette score is 0.41475874800931295)\n",
      "For n_clusters = 3, silhouette score is 0.314336550856098)\n",
      "For n_clusters = 4, silhouette score is 0.41904442202990666)\n",
      "For n_clusters = 5, silhouette score is 0.4008428237391121)\n",
      "For n_clusters = 6, silhouette score is 0.3971058454738646)\n",
      "For n_clusters = 7, silhouette score is 0.43219476588476247)\n",
      "For n_clusters = 8, silhouette score is 0.43960439484026614)\n",
      "For n_clusters = 9, silhouette score is 0.4290381046034209)\n",
      "For n_clusters = 10, silhouette score is 0.4328344804180348)\n",
      "For n_clusters = 11, silhouette score is 0.4422815949752891)\n",
      "For n_clusters = 12, silhouette score is 0.43625029692110606)\n",
      "For n_clusters = 13, silhouette score is 0.4552466941730427)\n",
      "For n_clusters = 14, silhouette score is 0.43567991600854195)\n",
      "For n_clusters = 15, silhouette score is 0.4314098634091748)\n",
      "For n_clusters = 16, silhouette score is 0.43776925862832655)\n",
      "For n_clusters = 17, silhouette score is 0.4445376761144797)\n",
      "For n_clusters = 18, silhouette score is 0.4483104780282692)\n",
      "For n_clusters = 19, silhouette score is 0.4425816084220164)\n"
     ]
    }
   ],
   "source": [
    "for n_clusters in range(2,20):\n",
    "    clusterer = KMeans(n_clusters=n_clusters, random_state=0, n_init=\"auto\")\n",
    "    preds = clusterer.fit_predict(X)\n",
    "    score = sklearn.metrics.silhouette_score(X, preds)\n",
    "    print(\"For n_clusters = {}, silhouette score is {})\".format(n_clusters, score))"
   ]
  },
  {
   "cell_type": "markdown",
   "id": "80d935f3",
   "metadata": {},
   "source": [
    "### Perform clustering on full dataset using $13$ clusters"
   ]
  },
  {
   "cell_type": "code",
   "execution_count": 113,
   "id": "3c104d8a",
   "metadata": {},
   "outputs": [],
   "source": [
    "X_full = final_df[['latitude', 'longitude']]"
   ]
  },
  {
   "cell_type": "code",
   "execution_count": 31,
   "id": "5f32573f",
   "metadata": {
    "scrolled": true
   },
   "outputs": [],
   "source": [
    "id_n = 13\n",
    "kmeans = KMeans(n_clusters=id_n, random_state=0).fit(X_full)\n",
    "id_label = kmeans.labels_\n",
    "clusters = kmeans.predict(X_full)"
   ]
  },
  {
   "cell_type": "markdown",
   "id": "4ef494de",
   "metadata": {},
   "source": [
    "### Visualize clusters"
   ]
  },
  {
   "cell_type": "code",
   "execution_count": 141,
   "id": "d4f0beb9",
   "metadata": {
    "scrolled": false
   },
   "outputs": [
    {
     "data": {
      "image/png": "[encoded data removed]",
      "text/plain": [
       "<Figure size 1200x1200 with 1 Axes>"
      ]
     },
     "metadata": {},
     "output_type": "display_data"
    }
   ],
   "source": [
    "ptsymb = [\"#\"+''.join([random.choice('0123456789ABCDEF') for j in range(6)])\n",
    "             for i in range(id_n)]\n",
    "\n",
    "plt.figure(figsize=(12,12))\n",
    "plt.ylabel('Longitude', fontsize=12)\n",
    "plt.xlabel('Latitude', fontsize=12)\n",
    "for i in range(id_n):\n",
    "    cluster=np.where(id_label==i)[0]\n",
    "    plt.scatter(X_full.latitude[cluster].values,\n",
    "             X_full.longitude[cluster].values,\n",
    "             c=ptsymb[i], marker='.')\n",
    "plt.show()"
   ]
  },
  {
   "cell_type": "markdown",
   "id": "489e2265",
   "metadata": {},
   "source": [
    "#### Add clusters column"
   ]
  },
  {
   "cell_type": "code",
   "execution_count": 139,
   "id": "62f17868",
   "metadata": {},
   "outputs": [],
   "source": [
    "final_df['clusters'] = clusters"
   ]
  },
  {
   "cell_type": "markdown",
   "id": "be3eb374",
   "metadata": {},
   "source": [
    "---"
   ]
  },
  {
   "cell_type": "markdown",
   "id": "a0fd9b00",
   "metadata": {},
   "source": [
    "# Part 3:  exploratory analysis"
   ]
  },
  {
   "cell_type": "markdown",
   "id": "65a8aced",
   "metadata": {},
   "source": [
    "### - Resulting table contains $764K$ points from $6.3K$ unique routes. Of all points $11$% were eventually removed.\n"
   ]
  },
  {
   "cell_type": "code",
   "execution_count": 41,
   "id": "8b6b09d3",
   "metadata": {},
   "outputs": [
    {
     "name": "stdout",
     "output_type": "stream",
     "text": [
      "764115 6302 10.864725859327457\n"
     ]
    }
   ],
   "source": [
    "print(final_df.shape[0], \n",
    "final_df[['folder_name', \"code_digit\"]].drop_duplicates().shape[0],\n",
    "final_df.query(\"is_removed == 1\").shape[0]/final_df.shape[0]*100)"
   ]
  },
  {
   "cell_type": "code",
   "execution_count": 6,
   "id": "1e05995e",
   "metadata": {},
   "outputs": [],
   "source": [
    "final_df['from'] = pd.to_datetime(final_df['from'])\n",
    "final_df['till'] = pd.to_datetime(final_df['till'])\n",
    "final_df['time_period'] = final_df['till'] - final_df['from']\n",
    "final_df['time_period'] = final_df['time_period'].apply(lambda x: x.total_seconds() / 60)"
   ]
  },
  {
   "cell_type": "markdown",
   "id": "f9c8fade",
   "metadata": {},
   "source": [
    "### - Of all points 85.6% have the same time window - ”07:30:00-23:59:00”"
   ]
  },
  {
   "cell_type": "code",
   "execution_count": 30,
   "id": "306b06f5",
   "metadata": {},
   "outputs": [
    {
     "data": {
      "text/plain": [
       "time_window_without_date\n",
       "07:30:00-23:59:00    0.855825\n",
       "07:30:00-17:00:00    0.053987\n",
       "08:00:00-17:00:00    0.011132\n",
       "07:30:00-16:00:00    0.006775\n",
       "09:00:00-17:00:00    0.006774\n",
       "                       ...   \n",
       "08:00:00-09:00:00    0.000001\n",
       "07:30:00-20:59:00    0.000001\n",
       "07:30:00-15:59:00    0.000001\n",
       "07:30:00-13:35:00    0.000001\n",
       "23:00:00-23:30:00    0.000001\n",
       "Length: 325, dtype: float64"
      ]
     },
     "execution_count": 30,
     "metadata": {},
     "output_type": "execute_result"
    }
   ],
   "source": [
    "final_df['time_window_without_date'] = (\n",
    "    final_df['from'].apply(lambda x: str(x).split(\" \")[1]) \n",
    "    + \"-\" +\n",
    "    final_df['till'].apply(lambda x: str(x).split(\" \")[1])\n",
    ")\n",
    "\n",
    "final_df.groupby(['time_window_without_date']).size().sort_values(ascending=False)/final_df.shape[0]"
   ]
  },
  {
   "cell_type": "markdown",
   "id": "b44e810c",
   "metadata": {},
   "source": [
    "### - The percentage of points that are removed varies depending on the type of the trigger type"
   ]
  },
  {
   "cell_type": "code",
   "execution_count": 39,
   "id": "095c1252",
   "metadata": {
    "scrolled": true
   },
   "outputs": [
    {
     "data": {
      "text/plain": [
       "configurationName  is_removed\n",
       "AddToSequence      0             78.183362\n",
       "                   1             21.816638\n",
       "CreateSequence     0             91.910819\n",
       "                   1              8.089181\n",
       "EstimateTime       0             42.465184\n",
       "                   1             57.534816\n",
       "dtype: float64"
      ]
     },
     "execution_count": 39,
     "metadata": {},
     "output_type": "execute_result"
    }
   ],
   "source": [
    "(final_df.groupby([\"configurationName\", \"is_removed\"]).size()/final_df.groupby([\"configurationName\"]).size())*100"
   ]
  },
  {
   "cell_type": "markdown",
   "id": "f3bdd30f",
   "metadata": {},
   "source": [
    "---"
   ]
  },
  {
   "cell_type": "markdown",
   "id": "a42baf2b",
   "metadata": {},
   "source": [
    "### - Removed points are on average $1.22$ times further from the next stop than non-removed ones."
   ]
  },
  {
   "cell_type": "code",
   "execution_count": 74,
   "id": "737af7e3",
   "metadata": {},
   "outputs": [
    {
     "data": {
      "text/html": [
       "<div>\n",
       "<style scoped>\n",
       "    .dataframe tbody tr th:only-of-type {\n",
       "        vertical-align: middle;\n",
       "    }\n",
       "\n",
       "    .dataframe tbody tr th {\n",
       "        vertical-align: top;\n",
       "    }\n",
       "\n",
       "    .dataframe thead th {\n",
       "        text-align: right;\n",
       "    }\n",
       "</style>\n",
       "<table border=\"1\" class=\"dataframe\">\n",
       "  <thead>\n",
       "    <tr style=\"text-align: right;\">\n",
       "      <th></th>\n",
       "      <th>distance</th>\n",
       "    </tr>\n",
       "    <tr>\n",
       "      <th>is_removed</th>\n",
       "      <th></th>\n",
       "    </tr>\n",
       "  </thead>\n",
       "  <tbody>\n",
       "    <tr>\n",
       "      <th>0</th>\n",
       "      <td>0.001301</td>\n",
       "    </tr>\n",
       "    <tr>\n",
       "      <th>1</th>\n",
       "      <td>0.001598</td>\n",
       "    </tr>\n",
       "  </tbody>\n",
       "</table>\n",
       "</div>"
      ],
      "text/plain": [
       "            distance\n",
       "is_removed          \n",
       "0           0.001301\n",
       "1           0.001598"
      ]
     },
     "execution_count": 74,
     "metadata": {},
     "output_type": "execute_result"
    }
   ],
   "source": [
    "final_df.groupby(\"is_removed\").agg({\"distance\": np.mean})"
   ]
  },
  {
   "cell_type": "code",
   "execution_count": 75,
   "id": "e0d60867",
   "metadata": {
    "scrolled": true
   },
   "outputs": [
    {
     "data": {
      "text/plain": [
       "1.2282859338970022"
      ]
     },
     "execution_count": 75,
     "metadata": {},
     "output_type": "execute_result"
    }
   ],
   "source": [
    "0.001598/0.001301"
   ]
  },
  {
   "cell_type": "markdown",
   "id": "0508b85d",
   "metadata": {},
   "source": [
    "---"
   ]
  },
  {
   "cell_type": "markdown",
   "id": "847d65cf",
   "metadata": {},
   "source": [
    "### - Removed points on average have $1.13$ times more stops than non-removed ones."
   ]
  },
  {
   "cell_type": "code",
   "execution_count": 76,
   "id": "110c90f2",
   "metadata": {},
   "outputs": [
    {
     "data": {
      "text/html": [
       "<div>\n",
       "<style scoped>\n",
       "    .dataframe tbody tr th:only-of-type {\n",
       "        vertical-align: middle;\n",
       "    }\n",
       "\n",
       "    .dataframe tbody tr th {\n",
       "        vertical-align: top;\n",
       "    }\n",
       "\n",
       "    .dataframe thead th {\n",
       "        text-align: right;\n",
       "    }\n",
       "</style>\n",
       "<table border=\"1\" class=\"dataframe\">\n",
       "  <thead>\n",
       "    <tr style=\"text-align: right;\">\n",
       "      <th></th>\n",
       "      <th>number_of_input_taks</th>\n",
       "    </tr>\n",
       "    <tr>\n",
       "      <th>is_removed</th>\n",
       "      <th></th>\n",
       "    </tr>\n",
       "  </thead>\n",
       "  <tbody>\n",
       "    <tr>\n",
       "      <th>0</th>\n",
       "      <td>147.458501</td>\n",
       "    </tr>\n",
       "    <tr>\n",
       "      <th>1</th>\n",
       "      <td>167.694877</td>\n",
       "    </tr>\n",
       "  </tbody>\n",
       "</table>\n",
       "</div>"
      ],
      "text/plain": [
       "            number_of_input_taks\n",
       "is_removed                      \n",
       "0                     147.458501\n",
       "1                     167.694877"
      ]
     },
     "execution_count": 76,
     "metadata": {},
     "output_type": "execute_result"
    }
   ],
   "source": [
    "final_df.groupby(\"is_removed\").agg({\"number_of_input_taks\": np.mean})"
   ]
  },
  {
   "cell_type": "code",
   "execution_count": 77,
   "id": "963f8fb7",
   "metadata": {},
   "outputs": [
    {
     "data": {
      "text/plain": [
       "1.1372343802681133"
      ]
     },
     "execution_count": 77,
     "metadata": {},
     "output_type": "execute_result"
    }
   ],
   "source": [
    "167.694877/147.458501"
   ]
  },
  {
   "cell_type": "markdown",
   "id": "55fa23c0",
   "metadata": {},
   "source": [
    "---"
   ]
  },
  {
   "cell_type": "markdown",
   "id": "c9cf8a3d",
   "metadata": {},
   "source": [
    "### - Cluster 3 has highest concentration of removed points ($16$%)\n",
    "### - Cluster 12 has the least concentration of removed points ($3$%)"
   ]
  },
  {
   "cell_type": "code",
   "execution_count": 64,
   "id": "ffe7189b",
   "metadata": {},
   "outputs": [
    {
     "data": {
      "text/html": [
       "<div>\n",
       "<style scoped>\n",
       "    .dataframe tbody tr th:only-of-type {\n",
       "        vertical-align: middle;\n",
       "    }\n",
       "\n",
       "    .dataframe tbody tr th {\n",
       "        vertical-align: top;\n",
       "    }\n",
       "\n",
       "    .dataframe thead th {\n",
       "        text-align: right;\n",
       "    }\n",
       "</style>\n",
       "<table border=\"1\" class=\"dataframe\">\n",
       "  <thead>\n",
       "    <tr style=\"text-align: right;\">\n",
       "      <th></th>\n",
       "      <th>clusters</th>\n",
       "      <th>times_visited</th>\n",
       "      <th>times_removed</th>\n",
       "      <th>%_removed</th>\n",
       "    </tr>\n",
       "  </thead>\n",
       "  <tbody>\n",
       "    <tr>\n",
       "      <th>3</th>\n",
       "      <td>3</td>\n",
       "      <td>72323</td>\n",
       "      <td>11962</td>\n",
       "      <td>16.539690</td>\n",
       "    </tr>\n",
       "    <tr>\n",
       "      <th>7</th>\n",
       "      <td>5</td>\n",
       "      <td>54735</td>\n",
       "      <td>7933</td>\n",
       "      <td>14.493469</td>\n",
       "    </tr>\n",
       "    <tr>\n",
       "      <th>0</th>\n",
       "      <td>8</td>\n",
       "      <td>116130</td>\n",
       "      <td>15636</td>\n",
       "      <td>13.464221</td>\n",
       "    </tr>\n",
       "    <tr>\n",
       "      <th>1</th>\n",
       "      <td>10</td>\n",
       "      <td>100318</td>\n",
       "      <td>12676</td>\n",
       "      <td>12.635818</td>\n",
       "    </tr>\n",
       "    <tr>\n",
       "      <th>6</th>\n",
       "      <td>0</td>\n",
       "      <td>54862</td>\n",
       "      <td>6584</td>\n",
       "      <td>12.001021</td>\n",
       "    </tr>\n",
       "    <tr>\n",
       "      <th>5</th>\n",
       "      <td>4</td>\n",
       "      <td>60727</td>\n",
       "      <td>6841</td>\n",
       "      <td>11.265170</td>\n",
       "    </tr>\n",
       "    <tr>\n",
       "      <th>12</th>\n",
       "      <td>9</td>\n",
       "      <td>21936</td>\n",
       "      <td>2307</td>\n",
       "      <td>10.516958</td>\n",
       "    </tr>\n",
       "    <tr>\n",
       "      <th>4</th>\n",
       "      <td>11</td>\n",
       "      <td>63862</td>\n",
       "      <td>5283</td>\n",
       "      <td>8.272525</td>\n",
       "    </tr>\n",
       "    <tr>\n",
       "      <th>9</th>\n",
       "      <td>7</td>\n",
       "      <td>37489</td>\n",
       "      <td>2928</td>\n",
       "      <td>7.810291</td>\n",
       "    </tr>\n",
       "    <tr>\n",
       "      <th>2</th>\n",
       "      <td>1</td>\n",
       "      <td>74925</td>\n",
       "      <td>5616</td>\n",
       "      <td>7.495495</td>\n",
       "    </tr>\n",
       "    <tr>\n",
       "      <th>11</th>\n",
       "      <td>2</td>\n",
       "      <td>27899</td>\n",
       "      <td>1755</td>\n",
       "      <td>6.290548</td>\n",
       "    </tr>\n",
       "    <tr>\n",
       "      <th>10</th>\n",
       "      <td>6</td>\n",
       "      <td>36217</td>\n",
       "      <td>1967</td>\n",
       "      <td>5.431151</td>\n",
       "    </tr>\n",
       "    <tr>\n",
       "      <th>8</th>\n",
       "      <td>12</td>\n",
       "      <td>42692</td>\n",
       "      <td>1531</td>\n",
       "      <td>3.586152</td>\n",
       "    </tr>\n",
       "  </tbody>\n",
       "</table>\n",
       "</div>"
      ],
      "text/plain": [
       "    clusters  times_visited  times_removed  %_removed\n",
       "3          3          72323          11962  16.539690\n",
       "7          5          54735           7933  14.493469\n",
       "0          8         116130          15636  13.464221\n",
       "1         10         100318          12676  12.635818\n",
       "6          0          54862           6584  12.001021\n",
       "5          4          60727           6841  11.265170\n",
       "12         9          21936           2307  10.516958\n",
       "4         11          63862           5283   8.272525\n",
       "9          7          37489           2928   7.810291\n",
       "2          1          74925           5616   7.495495\n",
       "11         2          27899           1755   6.290548\n",
       "10         6          36217           1967   5.431151\n",
       "8         12          42692           1531   3.586152"
      ]
     },
     "execution_count": 64,
     "metadata": {},
     "output_type": "execute_result"
    }
   ],
   "source": [
    "times_visited = (\n",
    "final_df\n",
    ".groupby(['clusters'])\n",
    ".size()\n",
    ".sort_values(ascending=False)\n",
    ".reset_index(name='times_visited'))\n",
    "\n",
    "times_removed = (\n",
    "final_df\n",
    ".query(\"is_removed ==1 \")\n",
    ".groupby(['clusters'])\n",
    ".size()\n",
    ".sort_values(ascending=False)\n",
    ".reset_index(name='times_removed'))\n",
    "\n",
    "\n",
    "per_removed_from_neighb = pd.merge(times_visited, times_removed, on=['clusters'])\n",
    "per_removed_from_neighb[\"%_removed\"] = (per_removed_from_neighb[\"times_removed\"]/\n",
    "                                        per_removed_from_neighb[\"times_visited\"]*100)\n",
    "\n",
    "per_removed_from_neighb.sort_values(\"%_removed\", ascending=False)\n"
   ]
  },
  {
   "cell_type": "markdown",
   "id": "bb582c3f",
   "metadata": {},
   "source": [
    "# Part 4: modelling"
   ]
  },
  {
   "cell_type": "markdown",
   "id": "b32ecc5a",
   "metadata": {},
   "source": [
    "###  Fit two models and compare accuracies"
   ]
  },
  {
   "cell_type": "code",
   "execution_count": 137,
   "id": "7876d8cc",
   "metadata": {},
   "outputs": [],
   "source": [
    "sample_prop = 0.05\n",
    "sample_size = int(final_df[['request_file_name']].drop_duplicates().shape[0]*sample_prop)\n",
    "sample_files = (final_df[['request_file_name']].drop_duplicates()\n",
    "                                               .sample(sample_size, random_state=1)['request_file_name'].values)\n",
    "\n",
    "training = final_df.query(\"request_file_name in @sample_files\")[['configurationName','distance', \n",
    "                                                                 'number_of_input_taks', 'clusters',\n",
    "                                                                 'is_removed', 'time_period']]\n",
    "training['distance'] = training['distance'].fillna(0)  \n",
    "\n",
    "## Encode configurationName\n",
    "le = LabelEncoder()\n",
    "training['configurationName'] = le.fit_transform(training['configurationName'])\n"
   ]
  },
  {
   "cell_type": "markdown",
   "id": "f3172014",
   "metadata": {},
   "source": [
    "### Split test-train"
   ]
  },
  {
   "cell_type": "code",
   "execution_count": 139,
   "id": "216e3d41",
   "metadata": {},
   "outputs": [],
   "source": [
    "X_train, X_test, y_train, y_test = train_test_split(training.drop('is_removed', axis=1), \n",
    "                                                    training['is_removed'], test_size=0.3, random_state=42)"
   ]
  },
  {
   "cell_type": "markdown",
   "id": "c0f31a12",
   "metadata": {},
   "source": [
    "### RandomForestClassifier has 92% accuracy"
   ]
  },
  {
   "cell_type": "code",
   "execution_count": 140,
   "id": "4bd869d2",
   "metadata": {},
   "outputs": [
    {
     "name": "stdout",
     "output_type": "stream",
     "text": [
      "Accuracy: 0.9244240414860154\n"
     ]
    }
   ],
   "source": [
    "rf = RandomForestClassifier(n_estimators=100, random_state=42)\n",
    "\n",
    "rf.fit(X_train, y_train)\n",
    "\n",
    "y_pred = rf.predict(X_test)\n",
    "\n",
    "\n",
    "accuracy = accuracy_score(y_test, y_pred)\n",
    "print(\"Accuracy:\", accuracy)"
   ]
  },
  {
   "cell_type": "markdown",
   "id": "2191d5cc",
   "metadata": {},
   "source": [
    "### LogisticRegression has 88% accuracy"
   ]
  },
  {
   "cell_type": "code",
   "execution_count": 144,
   "id": "75869949",
   "metadata": {},
   "outputs": [
    {
     "name": "stdout",
     "output_type": "stream",
     "text": [
      "Accuracy: 0.8795375329422767\n"
     ]
    }
   ],
   "source": [
    "lg = LogisticRegression(random_state=42)\n",
    "\n",
    "lg.fit(X_train, y_train)\n",
    "\n",
    "y_pred = lg.predict(X_test)\n",
    "\n",
    "\n",
    "accuracy = accuracy_score(y_test, y_pred)\n",
    "\n",
    "print(\"Accuracy:\", accuracy)"
   ]
  },
  {
   "cell_type": "markdown",
   "id": "83d1e4a1",
   "metadata": {},
   "source": [
    "---"
   ]
  },
  {
   "cell_type": "markdown",
   "id": "b813f42b",
   "metadata": {},
   "source": [
    "### Summary of logistic regression results"
   ]
  },
  {
   "cell_type": "code",
   "execution_count": 154,
   "id": "5fbeebf8",
   "metadata": {},
   "outputs": [
    {
     "name": "stdout",
     "output_type": "stream",
     "text": [
      "Optimization terminated successfully.\n",
      "         Current function value: 0.309264\n",
      "         Iterations 7\n",
      "                           Logit Regression Results                           \n",
      "==============================================================================\n",
      "Dep. Variable:             is_removed   No. Observations:                27445\n",
      "Model:                          Logit   Df Residuals:                    27439\n",
      "Method:                           MLE   Df Model:                            5\n",
      "Date:                Sat, 22 Apr 2023   Pseudo R-squ.:                  0.1024\n",
      "Time:                        19:03:52   Log-Likelihood:                -8487.7\n",
      "converged:                       True   LL-Null:                       -9455.7\n",
      "Covariance Type:            nonrobust   LLR p-value:                     0.000\n",
      "========================================================================================\n",
      "                           coef    std err          z      P>|z|      [0.025      0.975]\n",
      "----------------------------------------------------------------------------------------\n",
      "const                   -6.1382      0.144    -42.483      0.000      -6.421      -5.855\n",
      "configurationName        2.6311      0.063     41.765      0.000       2.508       2.755\n",
      "distance                32.6786      5.876      5.561      0.000      21.162      44.195\n",
      "number_of_input_taks     0.0074      0.000     21.569      0.000       0.007       0.008\n",
      "clusters                 0.0102      0.006      1.788      0.074      -0.001       0.021\n",
      "time_period             -0.0001      0.000     -1.151      0.250      -0.000     8.7e-05\n",
      "========================================================================================\n"
     ]
    }
   ],
   "source": [
    "X_train = sm.add_constant(X_train)\n",
    "\n",
    "logit_model=sm.Logit(y_train, X_train).fit()\n",
    "print(logit_model.summary())\n"
   ]
  }
 ],
 "metadata": {
  "kernelspec": {
   "display_name": "Python 3 (ipykernel)",
   "language": "python",
   "name": "python3"
  },
  "language_info": {
   "codemirror_mode": {
    "name": "ipython",
    "version": 3
   },
   "file_extension": ".py",
   "mimetype": "text/x-python",
   "name": "python",
   "nbconvert_exporter": "python",
   "pygments_lexer": "ipython3",
   "version": "3.9.6"
  }
 },
 "nbformat": 4,
 "nbformat_minor": 5
}
